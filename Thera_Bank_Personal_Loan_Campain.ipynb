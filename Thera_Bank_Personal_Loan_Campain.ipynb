{
 "cells": [
  {
   "cell_type": "markdown",
   "id": "bc7c097d",
   "metadata": {},
   "source": [
    "# Campaign for selling personal loans."
   ]
  },
  {
   "cell_type": "markdown",
   "id": "d64b2199",
   "metadata": {},
   "source": [
    "##### This case is about a bank (Thera Bank) which has a growing customer base. Majority of these customers are liability customers (depositors) with varying size of deposits. The number of customers who are also borrowers (asset customers) is quite small, and the bank is interested in expanding this base rapidly to bring in more loan business and in the process, earn more through the interest on loans. In particular, the management wants to explore ways of converting its liability customers to personal loan customers (while retaining them as depositors). A campaign that the bank ran last year for liability customers showed a healthy conversion rate of over 9% success. This has encouraged the retail marketing department to devise campaigns with better target marketing to increase the success ratio with minimal budget.\n",
    "\n",
    "##### The department wants to build a model that will help them identify the potential customers who have higher probability of purchasing the loan. This will increase the success ratio while at the same time reduce the cost of the campaign.\n",
    "\n",
    "##### The file Bank.xls contains data on 5000 customers. The data include customer demographic information (age, income, etc.), the customer's relationship with the bank (mortgage, securities account, etc.), and the customer response to the last personal loan campaign (Personal Loan). Among these 5000 customers, only 480 (= 9.6%) accepted the personal loan that was offered to them in the earlier campaign."
   ]
  },
  {
   "cell_type": "markdown",
   "id": "d0c282ce",
   "metadata": {},
   "source": [
    "## DataSet Description: \n",
    "#### ID - Customer ID\n",
    "#### Age - Customer's age in completed years\n",
    "#### Experience - Number years of professional experience\n",
    "#### Income - Annual income of the customer (US Dollars)\n",
    "#### ZIPCode - Home Address ZIP code.\n",
    "#### Family - Family size of the customer\n",
    "#### CCAvg - Avg. spending on credit cards per month (US Dollars)\n",
    "#### Education - Education Level. 1: Undergrad; 2: Graduate; 3: Advanced/Professional\n",
    "#### Mortgage - Value of house mortgage if any. (US Dollars)\n",
    "#### Personal Loan - Did this customer accept the personal loan offered in the last campaign?\n",
    "#### Securities Account - Does the customer have a securities account with the bank?\n",
    "#### CD Account - Does the customer have a certificate of deposit (CD) account with the bank?\n",
    "#### Online - Does the customer use internet banking facilities?\n",
    "#### CreditCard - Does the customer use a credit card issued by UniversalBank?"
   ]
  },
  {
   "cell_type": "markdown",
   "id": "ca02cd3a",
   "metadata": {},
   "source": [
    "## Task 1: Data Loading  (5 Marks)\n",
    "Perform the following tasks\n",
    "\n",
    "1. Import the necessary libraries required\n",
    "2. Read the csv into a dataframe\n",
    "3. Display the first five rows of your dataframe.\n",
    "4. Display the datatypes of the columns\n",
    "5. Display the column names in the dataframe"
   ]
  },
  {
   "cell_type": "code",
   "execution_count": null,
   "id": "24ca4424",
   "metadata": {},
   "outputs": [],
   "source": [
    "# Import the necessary libraries required"
   ]
  },
  {
   "cell_type": "code",
   "execution_count": null,
   "id": "2276fcb0",
   "metadata": {},
   "outputs": [],
   "source": [
    "# Read the csv into a dataframe"
   ]
  },
  {
   "cell_type": "code",
   "execution_count": null,
   "id": "c33d3731",
   "metadata": {},
   "outputs": [],
   "source": [
    "# Display the first five rows of your dataframe."
   ]
  },
  {
   "cell_type": "code",
   "execution_count": null,
   "id": "a54544bb",
   "metadata": {},
   "outputs": [],
   "source": [
    "# Display the datatypes of the columns"
   ]
  },
  {
   "cell_type": "code",
   "execution_count": null,
   "id": "379c89f9",
   "metadata": {},
   "outputs": [],
   "source": [
    "# Display the column names in the dataframe"
   ]
  },
  {
   "cell_type": "markdown",
   "id": "6bdae9fb",
   "metadata": {},
   "source": [
    "## Task 2: Data Cleaning (10 Marks)\n",
    "\n",
    "1. Drop the unnecessary columns in the dataframe(i.e. 'ID'). <b>(2Marks)</b>\n",
    "2. Check for missing values in the dataframe and display the count in ascending order. Impute the missing values. <b>(2Marks)</b>\n",
    "3. Check whether there are any duplicate values in the dataframe and if present remove them. <b>(2Marks)</b>\n",
    "4. Display the total number of records in the dataframe after removing the duplicates. <b>(2Marks)</b>\n",
    "5. Create a 5 Point summary of the data. <b>(2Marks)</b>"
   ]
  },
  {
   "cell_type": "code",
   "execution_count": null,
   "id": "3fc92a21",
   "metadata": {},
   "outputs": [],
   "source": [
    "# Drop the unnecessary columns in the dataframe(i.e. 'ID')"
   ]
  },
  {
   "cell_type": "code",
   "execution_count": null,
   "id": "a5b330a5",
   "metadata": {},
   "outputs": [],
   "source": [
    "# Check for missing values in the dataframe and display the count in ascending order. Impute the missing values"
   ]
  },
  {
   "cell_type": "code",
   "execution_count": null,
   "id": "71d83ad6",
   "metadata": {},
   "outputs": [],
   "source": [
    "# Check whether there are any duplicate values in the dataframe and if present remove them"
   ]
  },
  {
   "cell_type": "code",
   "execution_count": null,
   "id": "a09afe33",
   "metadata": {},
   "outputs": [],
   "source": [
    "# Display the total number of records in the dataframe after removing the duplicates."
   ]
  },
  {
   "cell_type": "code",
   "execution_count": null,
   "id": "647ba76d",
   "metadata": {},
   "outputs": [],
   "source": [
    "# Create a 5 Point summary of the data"
   ]
  },
  {
   "cell_type": "markdown",
   "id": "8ef2a7fe",
   "metadata": {},
   "source": [
    "## Task 3: Data Analysis and Visualization (20Marks)\n",
    "\n",
    "1. Check for correlation of the attributes in the dataframe and plot the heatmap for the same. <b>(4Marks)</b>\n",
    "2. Plot a pairplot for the attributes. Use \"Personal Loan\" as hue. <b>(4Marks)</b>\n",
    "3. From the above visualization identify the attributes that are correlated and drop the unnecessary attribute(column) <b>(4Marks)</b> \n",
    "4. Plot a boxplot to understand the distribution of data for the attributes such as \"Age\", \"Income\", Family\", \"CCAvg\", \"Education\", \"Mortgage\" by taking x axis as \"Personal Loan\" <b>(4Marks)</b> \n",
    "5. Display the unique values of attributes \"Family\", \"Education\" and \"Personal loan\" and plot a bargraph. <b>(4Marks)</b>"
   ]
  },
  {
   "cell_type": "code",
   "execution_count": null,
   "id": "b3a4c2fb",
   "metadata": {},
   "outputs": [],
   "source": [
    "# Check for correlation of the attributes in the dataframe and plot the heatmap for the same."
   ]
  },
  {
   "cell_type": "code",
   "execution_count": null,
   "id": "7ccabe28",
   "metadata": {},
   "outputs": [],
   "source": [
    "# Plot a pairplot for the attributes. Use \"Personal Loan\" as hue. "
   ]
  },
  {
   "cell_type": "code",
   "execution_count": null,
   "id": "af4f34c4",
   "metadata": {},
   "outputs": [],
   "source": [
    "# From the above visualization identify the attributes that are correlated and drop the unnecessary attribute(column)"
   ]
  },
  {
   "cell_type": "code",
   "execution_count": null,
   "id": "3c5ecfab",
   "metadata": {},
   "outputs": [],
   "source": [
    "# Plot a boxplot to understand the distribution of data for the attributes such as \"Age\", \"Income\", Family\", \"CCAvg\", \"Education\", \"Mortgage\" by taking x axis as \"Personal Loan\""
   ]
  },
  {
   "cell_type": "code",
   "execution_count": null,
   "id": "56b85d65",
   "metadata": {},
   "outputs": [],
   "source": [
    "# Display the unique values of attributes \"Family\", \"Education\" and \"Personal loan\" and plot a bargraph."
   ]
  },
  {
   "cell_type": "markdown",
   "id": "e7c03638",
   "metadata": {},
   "source": [
    "## Task 4: Modelling (25Marks)\n",
    "\n",
    "1. Split data into X and Y. <b>(1Marks)</b>\n",
    "2. Split the data into training and test set in the ratio of 70:30 respectively <b>(2Marks)</b>\n",
    "3. Train a Supervised Learning Classification base model using KNN classifier, Naive Bayes and Logistic Regression. Print the train and test accuracy for the same <b>(12Marks)</b>\n",
    "4. Print the confusion matrix for all the above models <b>(5Marks)</b>\n",
    "5. Give your reasoning on which is the best model in this case and why it performs better <b>(5Marks)</b>"
   ]
  },
  {
   "cell_type": "code",
   "execution_count": null,
   "id": "1ba73f0d",
   "metadata": {},
   "outputs": [],
   "source": [
    "# Split data into X and Y."
   ]
  },
  {
   "cell_type": "code",
   "execution_count": null,
   "id": "f8532dfb",
   "metadata": {},
   "outputs": [],
   "source": [
    "# Split the data into training and test set in the ratio of 70:30 respectively "
   ]
  },
  {
   "cell_type": "code",
   "execution_count": null,
   "id": "e60d87ba",
   "metadata": {},
   "outputs": [],
   "source": [
    "# Train a Supervised Learning Classification base model using KNN classifier, Naive Bayes and Logistic Regression. Print the train and test accuracy for the same"
   ]
  },
  {
   "cell_type": "code",
   "execution_count": null,
   "id": "4396e312",
   "metadata": {},
   "outputs": [],
   "source": [
    "# Print the confusion matrix for all the above models"
   ]
  },
  {
   "cell_type": "code",
   "execution_count": null,
   "id": "47473c87",
   "metadata": {},
   "outputs": [],
   "source": [
    "# Give your reasoning on which is the best model in this case and why it performs better"
   ]
  }
 ],
 "metadata": {
  "kernelspec": {
   "display_name": "Python 3 (ipykernel)",
   "language": "python",
   "name": "python3"
  },
  "language_info": {
   "codemirror_mode": {
    "name": "ipython",
    "version": 3
   },
   "file_extension": ".py",
   "mimetype": "text/x-python",
   "name": "python",
   "nbconvert_exporter": "python",
   "pygments_lexer": "ipython3",
   "version": "3.9.13"
  }
 },
 "nbformat": 4,
 "nbformat_minor": 5
}
